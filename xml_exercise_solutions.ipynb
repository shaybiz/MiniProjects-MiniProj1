{
 "cells": [
  {
   "cell_type": "markdown",
   "metadata": {},
   "source": [
    "# XML example and exercise\n",
    "****\n",
    "+ study examples of accessing nodes in XML tree structure  \n",
    "+ work on exercise to be completed and submitted\n",
    "****\n",
    "+ reference: https://docs.python.org/2.7/library/xml.etree.elementtree.html\n",
    "+ data source: http://www.dbis.informatik.uni-goettingen.de/Mondial\n",
    "****"
   ]
  },
  {
   "cell_type": "code",
   "execution_count": 1,
   "metadata": {
    "collapsed": true
   },
   "outputs": [],
   "source": [
    "from xml.etree import ElementTree as ET\n",
    "import pandas as pd"
   ]
  },
  {
   "cell_type": "markdown",
   "metadata": {},
   "source": [
    "## XML example\n",
    "\n",
    "+ for details about tree traversal and iterators, see https://docs.python.org/2.7/library/xml.etree.elementtree.html"
   ]
  },
  {
   "cell_type": "code",
   "execution_count": 2,
   "metadata": {
    "collapsed": false
   },
   "outputs": [],
   "source": [
    "document_tree = ET.parse( './data/mondial_database_less.xml' )"
   ]
  },
  {
   "cell_type": "code",
   "execution_count": 3,
   "metadata": {
    "collapsed": false
   },
   "outputs": [
    {
     "name": "stdout",
     "output_type": "stream",
     "text": [
      "Albania\n",
      "Greece\n",
      "Macedonia\n",
      "Serbia\n",
      "Montenegro\n",
      "Kosovo\n",
      "Andorra\n"
     ]
    }
   ],
   "source": [
    "# print names of all countries\n",
    "for child in document_tree.getroot():\n",
    "    print(child.find('name').text)"
   ]
  },
  {
   "cell_type": "code",
   "execution_count": 4,
   "metadata": {
    "collapsed": false
   },
   "outputs": [
    {
     "name": "stdout",
     "output_type": "stream",
     "text": [
      "* Albania:\n",
      "Tirana, Shkodër, Durrës, Vlorë, Elbasan, Korçë\n",
      "* Greece:\n",
      "Komotini, Kavala, Athina, Peiraias, Peristeri, Acharnes, Patra, Kozani, Kerkyra, Ioannina, Thessaloniki, Iraklio, Chania, Ermoupoli, Rhodes, Tripoli, Lamia, Chalkida, Larissa, Volos, Mytilini, Karyes\n",
      "* Macedonia:\n",
      "Skopje, Kumanovo\n",
      "* Serbia:\n",
      "Beograd, Novi Sad, Niš\n",
      "* Montenegro:\n",
      "Podgorica\n",
      "* Kosovo:\n",
      "Prishtine\n",
      "* Andorra:\n",
      "Andorra la Vella\n"
     ]
    }
   ],
   "source": [
    "# print names of all countries and their cities\n",
    "for element in document_tree.iterfind('country'):\n",
    "    print('* ' + element.find('name').text + ':')\n",
    "    capitals_string = ''\n",
    "    for subelement in element.getiterator('city'):\n",
    "        capitals_string += subelement.find('name').text + ', '\n",
    "    print(capitals_string[:-2])"
   ]
  },
  {
   "cell_type": "markdown",
   "metadata": {},
   "source": [
    "****\n",
    "## XML exercise\n",
    "\n",
    "Using data in 'data/mondial_database.xml', the examples above, and refering to https://docs.python.org/2.7/library/xml.etree.elementtree.html, find\n",
    "\n",
    "1. 10 countries with the lowest infant mortality rates\n",
    "2. 10 cities with the largest population\n",
    "3. 10 ethnic groups with the largest overall populations (sum of best/latest estimates over all countries)\n",
    "4. name and country of a) longest river, b) largest lake and c) airport at highest elevation"
   ]
  },
  {
   "cell_type": "code",
   "execution_count": 6,
   "metadata": {
    "collapsed": false
   },
   "outputs": [],
   "source": [
    "document = ET.parse( './data/mondial_database.xml' )"
   ]
  },
  {
   "cell_type": "code",
   "execution_count": 7,
   "metadata": {
    "collapsed": false
   },
   "outputs": [
    {
     "data": {
      "text/plain": [
       "[('Western Sahara', 145.82),\n",
       " ('Afghanistan', 117.23),\n",
       " ('Mali', 104.34),\n",
       " ('Somalia', 100.14),\n",
       " ('Central African Republic', 92.86),\n",
       " ('Guinea-Bissau', 90.92),\n",
       " ('Chad', 90.3),\n",
       " ('Niger', 86.27),\n",
       " ('Angola', 79.99),\n",
       " ('Burkina Faso', 76.8)]"
      ]
     },
     "execution_count": 7,
     "metadata": {},
     "output_type": "execute_result"
    }
   ],
   "source": [
    "def infant_mort():\n",
    "                z={}\n",
    "                for element in document.iterfind('country'):\n",
    "                    \n",
    "                    for x in (element.findall('.//infant_mortality')):\n",
    "                        y={element.find('name').text:float(x.text)}\n",
    "                        z.update(y)\n",
    "                return z\n",
    "a=infant_mort()\n",
    "b=sorted(a.items(), key=lambda x: x[1], reverse=True)\n",
    "b[0:10]"
   ]
  },
  {
   "cell_type": "code",
   "execution_count": null,
   "metadata": {
    "collapsed": false
   },
   "outputs": [],
   "source": []
  },
  {
   "cell_type": "code",
   "execution_count": 8,
   "metadata": {
    "collapsed": false
   },
   "outputs": [
    {
     "data": {
      "text/plain": [
       "[('Shanghai', 22315474),\n",
       " ('Istanbul', 13710512),\n",
       " ('Delhi', 12877470),\n",
       " ('Mumbai', 12442373),\n",
       " ('Moskva', 11979529),\n",
       " ('Beijing', 11716620),\n",
       " ('São Paulo', 11152344),\n",
       " ('Tianjin', 11090314),\n",
       " ('Guangzhou', 11071424),\n",
       " ('Shenzhen', 10358381)]"
      ]
     },
     "execution_count": 8,
     "metadata": {},
     "output_type": "execute_result"
    }
   ],
   "source": [
    "def city_pop():\n",
    "    \n",
    "    \n",
    "    cp={}\n",
    "    for element in document.iterfind('country'):\n",
    "        capitals_string = ''\n",
    "        for subelement in element.getiterator('city'):\n",
    "            for z in (subelement.findall('.//population')):\n",
    "                y={subelement.find('name').text:int(z.text)}\n",
    "                for item in y.keys():\n",
    "                    if item in cp.keys():\n",
    "                        if int(y[item]) > int(cp[item]):\n",
    "                              cp.update(y)\n",
    "                    else:\n",
    "                            cp.update(y)\n",
    "    return cp\n",
    "            \n",
    "a=city_pop()\n",
    "b=sorted(a.items(), key=lambda x: x[1], reverse=True)\n",
    "b[0:10]"
   ]
  },
  {
   "cell_type": "code",
   "execution_count": 9,
   "metadata": {
    "collapsed": false
   },
   "outputs": [
    {
     "data": {
      "text/plain": [
       "[('Han Chinese', 1245058800),\n",
       " ('Indo-Aryan', 871815583),\n",
       " ('Dravidian', 302713744),\n",
       " ('Bengali', 146776916),\n",
       " ('Japanese', 126534212),\n",
       " ('Eastern Hamitic', 82830376),\n",
       " ('Mulatto', 78065896),\n",
       " ('Viet/Kinh', 76078375),\n",
       " ('English', 53592326),\n",
       " ('Mediterranean Nordic', 46815916)]"
      ]
     },
     "execution_count": 9,
     "metadata": {},
     "output_type": "execute_result"
    }
   ],
   "source": [
    "def ethnic_pop():\n",
    "    \n",
    "    ep={}\n",
    "    for element in document.iterfind('country'):\n",
    "        for subelement in (element.findall('./ethnicgroup')):\n",
    "            for perc in subelement.attrib.values():\n",
    "                percn=float(perc)\n",
    "                for subpop in (element.findall('./population')):\n",
    "                    pop={}\n",
    "                    y={element.find('name').text:int(subpop.text)}\n",
    "                    pop.update(y)\n",
    "                percn=float(perc)*int(subpop.text)/100\n",
    "            y={subelement.text:int(percn)}\n",
    "            ep.update(y)\n",
    "            \n",
    "    return ep\n",
    "            \n",
    "a=ethnic_pop()\n",
    "b=sorted(a.items(), key=lambda x: x[1], reverse=True)\n",
    "b[0:10]"
   ]
  },
  {
   "cell_type": "code",
   "execution_count": 10,
   "metadata": {
    "collapsed": false
   },
   "outputs": [
    {
     "data": {
      "text/html": [
       "<div>\n",
       "<table border=\"1\" class=\"dataframe\">\n",
       "  <thead>\n",
       "    <tr style=\"text-align: right;\">\n",
       "      <th></th>\n",
       "      <th>River</th>\n",
       "      <th>Length</th>\n",
       "      <th>Country</th>\n",
       "    </tr>\n",
       "  </thead>\n",
       "  <tbody>\n",
       "    <tr>\n",
       "      <th>43</th>\n",
       "      <td>Amazonas</td>\n",
       "      <td>6448.0</td>\n",
       "      <td>CO BR PE</td>\n",
       "    </tr>\n",
       "  </tbody>\n",
       "</table>\n",
       "</div>"
      ],
      "text/plain": [
       "       River  Length   Country\n",
       "43  Amazonas  6448.0  CO BR PE"
      ]
     },
     "execution_count": 10,
     "metadata": {},
     "output_type": "execute_result"
    }
   ],
   "source": [
    "def river_len():\n",
    "    \n",
    "    \n",
    "    cp={}\n",
    "    for element in document.iterfind('river'):\n",
    "        for subelement in element.getiterator('length'):\n",
    "            y={element.find('name').text:float(element.find('length').text)}\n",
    "            #print(y)\n",
    "            cp.update(y)\n",
    "    return cp\n",
    "\n",
    "def river_coun():\n",
    "    rc={}\n",
    "    for element in document.iterfind('river'):\n",
    "        for subelement in element.getiterator('length'):\n",
    "            y={element.attrib['country']:element.find('name').text}\n",
    "            #print(y)\n",
    "            rc.update(y)\n",
    "    return rc \n",
    "      \n",
    "a=river_len()\n",
    "b=river_coun()\n",
    "df_a=pd.DataFrame(list(a.items()),columns=['River','Length'])\n",
    "df_b=pd.DataFrame(list(b.items()),columns=['Country','River'])\n",
    "df=df_a.merge(df_b,how='inner',on='River')\n",
    "df.sort_values(by='Length').tail(1)"
   ]
  },
  {
   "cell_type": "code",
   "execution_count": 11,
   "metadata": {
    "collapsed": false
   },
   "outputs": [
    {
     "data": {
      "text/html": [
       "<div>\n",
       "<table border=\"1\" class=\"dataframe\">\n",
       "  <thead>\n",
       "    <tr style=\"text-align: right;\">\n",
       "      <th></th>\n",
       "      <th>Lake</th>\n",
       "      <th>Area</th>\n",
       "      <th>Country</th>\n",
       "    </tr>\n",
       "  </thead>\n",
       "  <tbody>\n",
       "    <tr>\n",
       "      <th>24</th>\n",
       "      <td>Caspian Sea</td>\n",
       "      <td>386400.0</td>\n",
       "      <td>R AZ KAZ IR TM</td>\n",
       "    </tr>\n",
       "  </tbody>\n",
       "</table>\n",
       "</div>"
      ],
      "text/plain": [
       "           Lake      Area         Country\n",
       "24  Caspian Sea  386400.0  R AZ KAZ IR TM"
      ]
     },
     "execution_count": 11,
     "metadata": {},
     "output_type": "execute_result"
    }
   ],
   "source": [
    "def lake_area():\n",
    "    \n",
    "    \n",
    "    la={}\n",
    "    for element in document.iterfind('lake'):\n",
    "        for subelement in element.getiterator('area'):\n",
    "            y={element.find('name').text:float(element.find('area').text)}\n",
    "            #print(y)\n",
    "            la.update(y)\n",
    "    return la\n",
    "\n",
    "def lake_coun():\n",
    "    lc={}\n",
    "    for element in document.iterfind('lake'):\n",
    "        for subelement in element.getiterator('area'):\n",
    "            y={element.attrib['country']:element.find('name').text}\n",
    "            #print(y)\n",
    "            lc.update(y)\n",
    "    return lc \n",
    "      \n",
    "a=lake_area()\n",
    "b=lake_coun()\n",
    "df_a=pd.DataFrame(list(a.items()),columns=['Lake','Area'])\n",
    "df_b=pd.DataFrame(list(b.items()),columns=['Country','Lake'])\n",
    "df=df_a.merge(df_b,how='inner',on='Lake')\n",
    "df.sort_values(by='Area').tail(1)\n",
    "\n"
   ]
  },
  {
   "cell_type": "code",
   "execution_count": 12,
   "metadata": {
    "collapsed": false
   },
   "outputs": [
    {
     "data": {
      "text/html": [
       "<div>\n",
       "<table border=\"1\" class=\"dataframe\">\n",
       "  <thead>\n",
       "    <tr style=\"text-align: right;\">\n",
       "      <th></th>\n",
       "      <th>Airport</th>\n",
       "      <th>Elevation</th>\n",
       "      <th>Country</th>\n",
       "    </tr>\n",
       "  </thead>\n",
       "  <tbody>\n",
       "    <tr>\n",
       "      <th>47</th>\n",
       "      <td>Jorge Wilsterman</td>\n",
       "      <td>2549.0</td>\n",
       "      <td>BOL</td>\n",
       "    </tr>\n",
       "  </tbody>\n",
       "</table>\n",
       "</div>"
      ],
      "text/plain": [
       "             Airport  Elevation Country\n",
       "47  Jorge Wilsterman     2549.0     BOL"
      ]
     },
     "execution_count": 12,
     "metadata": {},
     "output_type": "execute_result"
    }
   ],
   "source": [
    "def airport_elevation():\n",
    "    \n",
    "    \n",
    "    ae={}\n",
    "    for element in document.iterfind('airport'):\n",
    "        for subelement in element.getiterator('elevation'):\n",
    "            try:\n",
    "                y={element.find('name').text:float(element.find('elevation').text)}\n",
    "                #print(y)\n",
    "                ae.update(y)\n",
    "            except:\n",
    "                    pass\n",
    "                    #print('No elevation data')\n",
    "    return ae\n",
    "\n",
    "def airport_coun():\n",
    "    ac={}\n",
    "    for element in document.iterfind('airport'):\n",
    "        for subelement in element.getiterator('elevation'):\n",
    "            y={element.attrib['country']:element.find('name').text}\n",
    "            #print(y)\n",
    "            ac.update(y)\n",
    "    return ac \n",
    "      \n",
    "a=airport_elevation()\n",
    "b=airport_coun()\n",
    "df_a=pd.DataFrame(list(a.items()),columns=['Airport','Elevation'])\n",
    "df_b=pd.DataFrame(list(b.items()),columns=['Country','Airport'])\n",
    "df=df_a.merge(df_b,how='inner',on='Airport')\n",
    "df.sort_values(by='Elevation').tail(1)\n",
    "\n",
    "\n"
   ]
  },
  {
   "cell_type": "code",
   "execution_count": null,
   "metadata": {
    "collapsed": false
   },
   "outputs": [],
   "source": []
  },
  {
   "cell_type": "code",
   "execution_count": null,
   "metadata": {
    "collapsed": false
   },
   "outputs": [],
   "source": []
  },
  {
   "cell_type": "code",
   "execution_count": null,
   "metadata": {
    "collapsed": false
   },
   "outputs": [],
   "source": []
  },
  {
   "cell_type": "code",
   "execution_count": null,
   "metadata": {
    "collapsed": true
   },
   "outputs": [],
   "source": []
  }
 ],
 "metadata": {
  "anaconda-cloud": {},
  "kernelspec": {
   "display_name": "Python [Root]",
   "language": "python",
   "name": "Python [Root]"
  },
  "language_info": {
   "codemirror_mode": {
    "name": "ipython",
    "version": 3
   },
   "file_extension": ".py",
   "mimetype": "text/x-python",
   "name": "python",
   "nbconvert_exporter": "python",
   "pygments_lexer": "ipython3",
   "version": "3.5.2"
  }
 },
 "nbformat": 4,
 "nbformat_minor": 0
}
